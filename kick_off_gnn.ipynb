{
  "nbformat": 4,
  "nbformat_minor": 0,
  "metadata": {
    "colab": {
      "name": "kick_off_gnn.ipynb",
      "provenance": [],
      "authorship_tag": "ABX9TyNTclQBPuxXPk6oU4iSTC4f",
      "include_colab_link": true
    },
    "kernelspec": {
      "name": "python3",
      "display_name": "Python 3"
    },
    "accelerator": "GPU"
  },
  "cells": [
    {
      "cell_type": "markdown",
      "metadata": {
        "id": "view-in-github",
        "colab_type": "text"
      },
      "source": [
        "<a href=\"https://colab.research.google.com/github/GitYCC/ai_playground/blob/master/kick_off_gnn.ipynb\" target=\"_parent\"><img src=\"https://colab.research.google.com/assets/colab-badge.svg\" alt=\"Open In Colab\"/></a>"
      ]
    },
    {
      "cell_type": "markdown",
      "metadata": {
        "id": "Fpt5pHtLpwpu",
        "colab_type": "text"
      },
      "source": [
        "# 跨入Graph Neural Network的第一檻\n",
        "\n",
        "最近深度學習領域吹起一波Graph Neural Network (GNN)的風潮，大家到底為何而瘋呢？\n",
        "\n",
        "在概念上Graph是更一般化的命題，不管是圖像或是序列都可以看作是Graph的一種特例，所以GNN成為了取代CNN或RNN的明日之星，也因此GNN有範圍更大的使用場景，將可以擴大使用到行銷廣告、社交網路、生物、化學、物理、...等等，甚至很可能可以解決因果推理難題。綜上所述，GNN成為了機器學習領域新的必爭之地\n",
        "\n",
        "## 設置 torch-geometric\n"
      ]
    },
    {
      "cell_type": "code",
      "metadata": {
        "id": "qmGzRtCVqZxt",
        "colab_type": "code",
        "colab": {
          "base_uri": "https://localhost:8080/",
          "height": 85
        },
        "outputId": "fc874beb-3f57-4c48-f2ee-fed666e6cb90"
      },
      "source": [
        "!nvcc --version"
      ],
      "execution_count": 2,
      "outputs": [
        {
          "output_type": "stream",
          "text": [
            "nvcc: NVIDIA (R) Cuda compiler driver\n",
            "Copyright (c) 2005-2019 NVIDIA Corporation\n",
            "Built on Sun_Jul_28_19:07:16_PDT_2019\n",
            "Cuda compilation tools, release 10.1, V10.1.243\n"
          ],
          "name": "stdout"
        }
      ]
    },
    {
      "cell_type": "markdown",
      "metadata": {
        "id": "U4OlSiACrtOg",
        "colab_type": "text"
      },
      "source": [
        "目前cuda版本是10.1，所以根據版本如下安裝（應自行調配）"
      ]
    },
    {
      "cell_type": "code",
      "metadata": {
        "id": "AYxCbDMArbBu",
        "colab_type": "code",
        "colab": {
          "base_uri": "https://localhost:8080/",
          "height": 187
        },
        "outputId": "36360254-452f-4cee-c57a-c8317e82fb97"
      },
      "source": [
        "%env CUDA=cu101\n",
        "!pip install -q torch==1.5.0+${CUDA} torchvision==0.6.0+${CUDA} -f https://download.pytorch.org/whl/torch_stable.html\n",
        "!pip install -q torch-scatter==latest+${CUDA} -f https://pytorch-geometric.com/whl/torch-1.5.0.html\n",
        "!pip install -q torch-sparse==latest+${CUDA} -f https://pytorch-geometric.com/whl/torch-1.5.0.html\n",
        "!pip install -q torch-cluster==latest+${CUDA} -f https://pytorch-geometric.com/whl/torch-1.5.0.html\n",
        "!pip install -q torch-spline-conv==latest+${CUDA} -f https://pytorch-geometric.com/whl/torch-1.5.0.html\n",
        "!pip install -q torch-geometric"
      ],
      "execution_count": 3,
      "outputs": [
        {
          "output_type": "stream",
          "text": [
            "env: CUDA=cu101\n",
            "\u001b[K     |████████████████████████████████| 12.3MB 236kB/s \n",
            "\u001b[K     |████████████████████████████████| 24.4MB 121kB/s \n",
            "\u001b[K     |████████████████████████████████| 18.2MB 175kB/s \n",
            "\u001b[K     |████████████████████████████████| 6.3MB 6.9MB/s \n",
            "\u001b[K     |████████████████████████████████| 153kB 4.8MB/s \n",
            "\u001b[K     |████████████████████████████████| 235kB 8.1MB/s \n",
            "\u001b[K     |████████████████████████████████| 2.1MB 10.9MB/s \n",
            "\u001b[K     |████████████████████████████████| 51kB 8.8MB/s \n",
            "\u001b[?25h  Building wheel for torch-geometric (setup.py) ... \u001b[?25l\u001b[?25hdone\n"
          ],
          "name": "stdout"
        }
      ]
    },
    {
      "cell_type": "code",
      "metadata": {
        "id": "7EyaosR-sLVO",
        "colab_type": "code",
        "colab": {}
      },
      "source": [
        "import torch\n",
        "import torch.nn as nn\n",
        "import torch.nn.functional as F\n",
        "import torch.optim as optim\n",
        "\n",
        "import torch_geometric.nn as pyg_nn\n",
        "import torch_geometric.utils as pyg_utils\n",
        "from torch_geometric.data import DataLoader\n",
        "import torch_geometric.transforms as T"
      ],
      "execution_count": 0,
      "outputs": []
    },
    {
      "cell_type": "markdown",
      "metadata": {
        "id": "y5XtYElAtVEn",
        "colab_type": "text"
      },
      "source": [
        "## 什麼是Graph?\n",
        "\n"
      ]
    },
    {
      "cell_type": "markdown",
      "metadata": {
        "id": "6rMkJMiB_Saz",
        "colab_type": "text"
      },
      "source": [
        "## 載入Graph Dataset\n",
        "\n",
        "我們首先使用[Cora dataset](https://relational.fit.cvut.cz/dataset/CORA)來作示範，Cora dataset包含2708篇的科學論文，這些論文可以分為7類，這些論文間會彼此引用，資料集當中總共含有5278個引用連結，另外資料中會用一條只含有0/1的Word Vector來當作每篇論文的feature，Word Vector的長度總共有1433個，代表著是否存在1433個不重複的字詞，假設論文中有出現這個字詞那個位置就標示1，否則標示為0。\n",
        "\n",
        "我們用Graph的概念來理解這個dataset，每一篇論文可以當作Node，而每個Node都含有Word Vector當作Node Feature，而將這些Node連接起來的Edge就是引用連結。給定這樣的Graph，我們想辦法去預測這篇論文（Node）是屬於哪一類。"
      ]
    },
    {
      "cell_type": "code",
      "metadata": {
        "id": "YcOf37R9tAqU",
        "colab_type": "code",
        "colab": {
          "base_uri": "https://localhost:8080/",
          "height": 187
        },
        "outputId": "69582d04-92e2-4892-b9b8-515efa19c3ea"
      },
      "source": [
        "from torch_geometric.datasets import Planetoid\n",
        "\n",
        "dataset = Planetoid(root='/tmp/Cora', name='Cora')"
      ],
      "execution_count": 5,
      "outputs": [
        {
          "output_type": "stream",
          "text": [
            "Downloading https://github.com/kimiyoung/planetoid/raw/master/data/ind.cora.x\n",
            "Downloading https://github.com/kimiyoung/planetoid/raw/master/data/ind.cora.tx\n",
            "Downloading https://github.com/kimiyoung/planetoid/raw/master/data/ind.cora.allx\n",
            "Downloading https://github.com/kimiyoung/planetoid/raw/master/data/ind.cora.y\n",
            "Downloading https://github.com/kimiyoung/planetoid/raw/master/data/ind.cora.ty\n",
            "Downloading https://github.com/kimiyoung/planetoid/raw/master/data/ind.cora.ally\n",
            "Downloading https://github.com/kimiyoung/planetoid/raw/master/data/ind.cora.graph\n",
            "Downloading https://github.com/kimiyoung/planetoid/raw/master/data/ind.cora.test.index\n",
            "Processing...\n",
            "Done!\n"
          ],
          "name": "stdout"
        }
      ]
    },
    {
      "cell_type": "code",
      "metadata": {
        "id": "3ECds87eEnBS",
        "colab_type": "code",
        "colab": {
          "base_uri": "https://localhost:8080/",
          "height": 34
        },
        "outputId": "5de73702-bfab-4395-8598-1cb40836e48a"
      },
      "source": [
        "len(dataset)  # Graph的數量"
      ],
      "execution_count": 6,
      "outputs": [
        {
          "output_type": "execute_result",
          "data": {
            "text/plain": [
              "1"
            ]
          },
          "metadata": {
            "tags": []
          },
          "execution_count": 6
        }
      ]
    },
    {
      "cell_type": "code",
      "metadata": {
        "id": "65dIPgsJHWJg",
        "colab_type": "code",
        "colab": {
          "base_uri": "https://localhost:8080/",
          "height": 34
        },
        "outputId": "2ea5b86f-2fe3-4ec2-9ed3-6ef469e548a8"
      },
      "source": [
        "dataset.name"
      ],
      "execution_count": 7,
      "outputs": [
        {
          "output_type": "execute_result",
          "data": {
            "text/plain": [
              "'Cora'"
            ]
          },
          "metadata": {
            "tags": []
          },
          "execution_count": 7
        }
      ]
    },
    {
      "cell_type": "code",
      "metadata": {
        "id": "hpmq0RBRE_vJ",
        "colab_type": "code",
        "colab": {
          "base_uri": "https://localhost:8080/",
          "height": 34
        },
        "outputId": "3fd3b3df-32ce-4558-d410-0246aed53000"
      },
      "source": [
        "dataset.num_classes  # 類別數量"
      ],
      "execution_count": 8,
      "outputs": [
        {
          "output_type": "execute_result",
          "data": {
            "text/plain": [
              "7"
            ]
          },
          "metadata": {
            "tags": []
          },
          "execution_count": 8
        }
      ]
    },
    {
      "cell_type": "code",
      "metadata": {
        "id": "5fn9h9jUF4MG",
        "colab_type": "code",
        "colab": {
          "base_uri": "https://localhost:8080/",
          "height": 34
        },
        "outputId": "5bc32711-65e6-47ce-cc73-89462c412fb1"
      },
      "source": [
        "dataset.num_node_features  # Node Feature的數量"
      ],
      "execution_count": 9,
      "outputs": [
        {
          "output_type": "execute_result",
          "data": {
            "text/plain": [
              "1433"
            ]
          },
          "metadata": {
            "tags": []
          },
          "execution_count": 9
        }
      ]
    },
    {
      "cell_type": "code",
      "metadata": {
        "id": "aBCvUdhQGDc7",
        "colab_type": "code",
        "colab": {}
      },
      "source": [
        "graph = dataset[0]"
      ],
      "execution_count": 0,
      "outputs": []
    },
    {
      "cell_type": "code",
      "metadata": {
        "id": "oGgmK6NwIplJ",
        "colab_type": "code",
        "colab": {
          "base_uri": "https://localhost:8080/",
          "height": 34
        },
        "outputId": "5f862872-30ed-460c-d1b2-66fb2cd497c4"
      },
      "source": [
        "graph.is_undirected()  # 判斷Graph是不是無向"
      ],
      "execution_count": 11,
      "outputs": [
        {
          "output_type": "execute_result",
          "data": {
            "text/plain": [
              "True"
            ]
          },
          "metadata": {
            "tags": []
          },
          "execution_count": 11
        }
      ]
    },
    {
      "cell_type": "code",
      "metadata": {
        "id": "Kpp9W-xyShZt",
        "colab_type": "code",
        "colab": {
          "base_uri": "https://localhost:8080/",
          "height": 34
        },
        "outputId": "bf5f0e19-22ee-4325-edd1-1a28bac600be"
      },
      "source": [
        "graph"
      ],
      "execution_count": 12,
      "outputs": [
        {
          "output_type": "execute_result",
          "data": {
            "text/plain": [
              "Data(edge_index=[2, 10556], test_mask=[2708], train_mask=[2708], val_mask=[2708], x=[2708, 1433], y=[2708])"
            ]
          },
          "metadata": {
            "tags": []
          },
          "execution_count": 12
        }
      ]
    },
    {
      "cell_type": "markdown",
      "metadata": {
        "id": "sUtqP1g_IMSG",
        "colab_type": "text"
      },
      "source": [
        "以上有很多Graph的資訊，我們逐一來看：\n",
        "\n",
        "- `edge_index` 描述Edge的連接狀況"
      ]
    },
    {
      "cell_type": "code",
      "metadata": {
        "id": "x3yELIg1GNkR",
        "colab_type": "code",
        "colab": {
          "base_uri": "https://localhost:8080/",
          "height": 51
        },
        "outputId": "bffcec90-80b8-47a6-d675-03bf8d49cc7c"
      },
      "source": [
        "graph.edge_index"
      ],
      "execution_count": 13,
      "outputs": [
        {
          "output_type": "execute_result",
          "data": {
            "text/plain": [
              "tensor([[   0,    0,    0,  ..., 2707, 2707, 2707],\n",
              "        [ 633, 1862, 2582,  ...,  598, 1473, 2706]])"
            ]
          },
          "metadata": {
            "tags": []
          },
          "execution_count": 13
        }
      ]
    },
    {
      "cell_type": "markdown",
      "metadata": {
        "id": "yQ1fT9JgVpa9",
        "colab_type": "text"
      },
      "source": [
        "從上面的例子，`(0, 633)` 代表是從 Node 0 朝 Node 633 的 Edge，`(0, 1862)` 代表是從 Node 0 朝 Node 1862 的 Edge，以此類推。因為我們這個 Graph 是無向的，所以還有另外一個方向的 Edge `(633, 0)` 和 `(1862, 0)` ，因此雖然 Edge 數量為 5278，但是 `graph.edge_index.shape[1]` 則是 10556。  \n",
        "\n",
        "- `test_mask`, `train_mask`, `val_mask` 則是用來切分 Testing Set、Train Set 和 Validation Set的遮罩"
      ]
    },
    {
      "cell_type": "code",
      "metadata": {
        "id": "J9gaYA0xGofq",
        "colab_type": "code",
        "colab": {
          "base_uri": "https://localhost:8080/",
          "height": 34
        },
        "outputId": "fa609f67-3bcf-43a4-a259-10ad41792e45"
      },
      "source": [
        "graph.test_mask"
      ],
      "execution_count": 23,
      "outputs": [
        {
          "output_type": "execute_result",
          "data": {
            "text/plain": [
              "tensor([False, False, False,  ...,  True,  True,  True])"
            ]
          },
          "metadata": {
            "tags": []
          },
          "execution_count": 23
        }
      ]
    },
    {
      "cell_type": "markdown",
      "metadata": {
        "id": "4WRgtJir4UzE",
        "colab_type": "text"
      },
      "source": [
        "- `x` 表示 Node Feature"
      ]
    },
    {
      "cell_type": "code",
      "metadata": {
        "id": "OTw89kjJHArb",
        "colab_type": "code",
        "colab": {
          "base_uri": "https://localhost:8080/",
          "height": 136
        },
        "outputId": "2d8f4559-9ea0-40c4-ed44-86e06ea0aa73"
      },
      "source": [
        "graph.x"
      ],
      "execution_count": 24,
      "outputs": [
        {
          "output_type": "execute_result",
          "data": {
            "text/plain": [
              "tensor([[0., 0., 0.,  ..., 0., 0., 0.],\n",
              "        [0., 0., 0.,  ..., 0., 0., 0.],\n",
              "        [0., 0., 0.,  ..., 0., 0., 0.],\n",
              "        ...,\n",
              "        [0., 0., 0.,  ..., 0., 0., 0.],\n",
              "        [0., 0., 0.,  ..., 0., 0., 0.],\n",
              "        [0., 0., 0.,  ..., 0., 0., 0.]])"
            ]
          },
          "metadata": {
            "tags": []
          },
          "execution_count": 24
        }
      ]
    },
    {
      "cell_type": "markdown",
      "metadata": {
        "id": "fcRyin-v63Uz",
        "colab_type": "text"
      },
      "source": [
        "總共有2708個Node，每個Node都有1433維的Feature。\n",
        "\n",
        "- `y`: Node的類別"
      ]
    },
    {
      "cell_type": "code",
      "metadata": {
        "id": "0reE1THJ6vT3",
        "colab_type": "code",
        "colab": {
          "base_uri": "https://localhost:8080/",
          "height": 34
        },
        "outputId": "0f1f1b03-42e2-42b2-a6cf-32666f54d504"
      },
      "source": [
        "graph.y"
      ],
      "execution_count": 25,
      "outputs": [
        {
          "output_type": "execute_result",
          "data": {
            "text/plain": [
              "tensor([3, 4, 4,  ..., 3, 3, 3])"
            ]
          },
          "metadata": {
            "tags": []
          },
          "execution_count": 25
        }
      ]
    },
    {
      "cell_type": "markdown",
      "metadata": {
        "id": "n1XmU8dQ7jgX",
        "colab_type": "text"
      },
      "source": [
        "如果你想要載入更多其他已經準備好的Dataset，請參照[這裡](https://pytorch-geometric.readthedocs.io/en/latest/modules/datasets.html)。當然如果你有自己的數據，pytorch-geometric也有提供自定義的Graph Dataset，方法請詳見[教程](https://pytorch-geometric.readthedocs.io/en/latest/notes/create_dataset.html)。\n",
        "\n",
        "## Graph Convolution Network (GCN)\n",
        "\n"
      ]
    },
    {
      "cell_type": "code",
      "metadata": {
        "id": "3M36qZGP7Tna",
        "colab_type": "code",
        "colab": {}
      },
      "source": [
        ""
      ],
      "execution_count": 0,
      "outputs": []
    }
  ]
}